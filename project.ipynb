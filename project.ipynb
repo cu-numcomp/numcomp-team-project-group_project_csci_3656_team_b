{
 "cells": [
  {
   "cell_type": "markdown",
   "metadata": {},
   "source": [
    "# Differentiation in Theano vs Sympy"
   ]
  },
  {
   "cell_type": "code",
   "execution_count": 18,
   "metadata": {},
   "outputs": [
    {
     "name": "stdout",
     "output_type": "stream",
     "text": [
      "Requirement already satisfied: theano in /Users/mosabfaozi/.pyenv/versions/anaconda3-2019.03/lib/python3.7/site-packages (1.0.4)\n",
      "Requirement already satisfied: scipy>=0.14 in /Users/mosabfaozi/.pyenv/versions/anaconda3-2019.03/lib/python3.7/site-packages (from theano) (1.3.0)\n",
      "Requirement already satisfied: six>=1.9.0 in /Users/mosabfaozi/.pyenv/versions/anaconda3-2019.03/lib/python3.7/site-packages (from theano) (1.12.0)\n",
      "Requirement already satisfied: numpy>=1.9.1 in /Users/mosabfaozi/.pyenv/versions/anaconda3-2019.03/lib/python3.7/site-packages (from theano) (1.16.4)\n"
     ]
    }
   ],
   "source": [
    "#run below comment to install theano so we can call import theano and whatnot below\n",
    "! pip install theano"
   ]
  },
  {
   "cell_type": "markdown",
   "metadata": {},
   "source": [
    "* Zhouming (MingMing) Sun\n",
    "    * Conceptualization and initial investigation: set up basic framework of project with a differentiation comparision example\n",
    "* Musaab Al-Bakry\n",
    "* Rebecca Jacobs \n",
    "\n",
    "\n",
    "## About the method\n",
    "\n",
    "I was really interested by symbolic differentiation, so I tried to do it in a more efficient and cleaner way to understand higher order deriviatives on a function with respect to x. \n",
    "\n",
    "According to wikipedia: \"Theano is a Python library and optimizing compiler for manipulating and evaluating mathematical expressions, especially matrix-valued ones. In Theano, computations are expressed using a NumPy-esque syntax and compiled to run efficiently on either CPU or GPU architectures.\"\n",
    "\n",
    "Theano can do derivatives, but it also has the ability to produce computational graphs, as seen in x_squared_derivative.png and x_cubed_derivative.png. So I thought it would be super neat to have it do a higher order derivative, and then give us a computation graph. My goal is to compare symbolic differentiation results between theano and sympy for basic polynomials. "
   ]
  },
  {
   "cell_type": "code",
   "execution_count": 19,
   "metadata": {},
   "outputs": [
    {
     "name": "stdout",
     "output_type": "stream",
     "text": [
      "((fill((x ** TensorConstant{2}), TensorConstant{1.0}) * TensorConstant{2}) * (x ** (TensorConstant{2} - TensorConstant{1})))\n",
      "The derivative is right, once you look past the tensorconstant stuff:   2 * x ^ (2-1)\n",
      "8.0\n",
      "final result below in reduced form, it seems. 2x is indeed the derivative of x^2: \n"
     ]
    },
    {
     "data": {
      "text/plain": [
       "'(TensorConstant{2.0} * x)'"
      ]
     },
     "execution_count": 19,
     "metadata": {},
     "output_type": "execute_result"
    }
   ],
   "source": [
    "import numpy\n",
    "import theano\n",
    "import theano.tensor as T\n",
    "from theano import pp\n",
    "\n",
    "#here is a basic example of taking derivative of x^2\n",
    "x = T.dscalar('x')\n",
    "y = x ** 2\n",
    "gy = T.grad(y, x)\n",
    "print(pp(gy))  # print out the gradient prior to optimization\n",
    "print(\"The derivative is right, once you look past the tensorconstant stuff:   2 * x ^ (2-1)\")\n",
    "\n",
    "\n",
    "f = theano.function([x], gy)\n",
    "\n",
    "#calculate value of x=4. 2*4 = 8, seems good\n",
    "print(f(4))\n",
    "\n",
    "print(\"final result below in reduced form, it seems. 2x is indeed the derivative of x^2: \")\n",
    "pp(f.maker.fgraph.outputs[0])\n",
    "#theano.printing.pydotprint(f, outfile=\"looped_derivatives.png\", var_with_name_simple=True)"
   ]
  },
  {
   "cell_type": "code",
   "execution_count": 20,
   "metadata": {},
   "outputs": [
    {
     "name": "stdout",
     "output_type": "stream",
     "text": [
      "(((fill((((fill((((fill((((fill(((fill((x ** TensorConstant{10}), TensorConstant{1.0}) * TensorConstant{10}) * (x ** (TensorConstant{10} - TensorConstant{1}))), TensorConstant{1.0}) * (fill((x ** TensorConstant{10}), TensorConstant{1.0}) * TensorConstant{10})) * (TensorConstant{10} - TensorConstant{1})) * (x ** ((TensorConstant{10} - TensorConstant{1}) - TensorConstant{1}))), TensorConstant{1.0}) * ((fill(((fill((x ** TensorConstant{10}), TensorConstant{1.0}) * TensorConstant{10}) * (x ** (TensorConstant{10} - TensorConstant{1}))), TensorConstant{1.0}) * (fill((x ** TensorConstant{10}), TensorConstant{1.0}) * TensorConstant{10})) * (TensorConstant{10} - TensorConstant{1}))) * ((TensorConstant{10} - TensorConstant{1}) - TensorConstant{1})) * (x ** (((TensorConstant{10} - TensorConstant{1}) - TensorConstant{1}) - TensorConstant{1}))), TensorConstant{1.0}) * ((fill((((fill(((fill((x ** TensorConstant{10}), TensorConstant{1.0}) * TensorConstant{10}) * (x ** (TensorConstant{10} - TensorConstant{1}))), TensorConstant{1.0}) * (fill((x ** TensorConstant{10}), TensorConstant{1.0}) * TensorConstant{10})) * (TensorConstant{10} - TensorConstant{1})) * (x ** ((TensorConstant{10} - TensorConstant{1}) - TensorConstant{1}))), TensorConstant{1.0}) * ((fill(((fill((x ** TensorConstant{10}), TensorConstant{1.0}) * TensorConstant{10}) * (x ** (TensorConstant{10} - TensorConstant{1}))), TensorConstant{1.0}) * (fill((x ** TensorConstant{10}), TensorConstant{1.0}) * TensorConstant{10})) * (TensorConstant{10} - TensorConstant{1}))) * ((TensorConstant{10} - TensorConstant{1}) - TensorConstant{1}))) * (((TensorConstant{10} - TensorConstant{1}) - TensorConstant{1}) - TensorConstant{1})) * (x ** ((((TensorConstant{10} - TensorConstant{1}) - TensorConstant{1}) - TensorConstant{1}) - TensorConstant{1}))), TensorConstant{1.0}) * ((fill((((fill((((fill(((fill((x ** TensorConstant{10}), TensorConstant{1.0}) * TensorConstant{10}) * (x ** (TensorConstant{10} - TensorConstant{1}))), TensorConstant{1.0}) * (fill((x ** TensorConstant{10}), TensorConstant{1.0}) * TensorConstant{10})) * (TensorConstant{10} - TensorConstant{1})) * (x ** ((TensorConstant{10} - TensorConstant{1}) - TensorConstant{1}))), TensorConstant{1.0}) * ((fill(((fill((x ** TensorConstant{10}), TensorConstant{1.0}) * TensorConstant{10}) * (x ** (TensorConstant{10} - TensorConstant{1}))), TensorConstant{1.0}) * (fill((x ** TensorConstant{10}), TensorConstant{1.0}) * TensorConstant{10})) * (TensorConstant{10} - TensorConstant{1}))) * ((TensorConstant{10} - TensorConstant{1}) - TensorConstant{1})) * (x ** (((TensorConstant{10} - TensorConstant{1}) - TensorConstant{1}) - TensorConstant{1}))), TensorConstant{1.0}) * ((fill((((fill(((fill((x ** TensorConstant{10}), TensorConstant{1.0}) * TensorConstant{10}) * (x ** (TensorConstant{10} - TensorConstant{1}))), TensorConstant{1.0}) * (fill((x ** TensorConstant{10}), TensorConstant{1.0}) * TensorConstant{10})) * (TensorConstant{10} - TensorConstant{1})) * (x ** ((TensorConstant{10} - TensorConstant{1}) - TensorConstant{1}))), TensorConstant{1.0}) * ((fill(((fill((x ** TensorConstant{10}), TensorConstant{1.0}) * TensorConstant{10}) * (x ** (TensorConstant{10} - TensorConstant{1}))), TensorConstant{1.0}) * (fill((x ** TensorConstant{10}), TensorConstant{1.0}) * TensorConstant{10})) * (TensorConstant{10} - TensorConstant{1}))) * ((TensorConstant{10} - TensorConstant{1}) - TensorConstant{1}))) * (((TensorConstant{10} - TensorConstant{1}) - TensorConstant{1}) - TensorConstant{1}))) * ((((TensorConstant{10} - TensorConstant{1}) - TensorConstant{1}) - TensorConstant{1}) - TensorConstant{1})) * (x ** (((((TensorConstant{10} - TensorConstant{1}) - TensorConstant{1}) - TensorConstant{1}) - TensorConstant{1}) - TensorConstant{1})))\n",
      "wow that looks terrible, but it is before optimization\n",
      "\n",
      "967680.0\n",
      "yay that is right. 30240 * 2^5 = 967680 indeed\n",
      "\n",
      "Below is the optimized form. It looks off. IDK what the whole left half is doing. The 30240 is correct though, so it is still somehow right\n"
     ]
    },
    {
     "data": {
      "text/plain": [
       "'Elemwise{Composite{(i0 * Composite{(sqr(sqr(i0)) * i0)}(i1))}}(TensorConstant{30240.0}, x)'"
      ]
     },
     "execution_count": 20,
     "metadata": {},
     "output_type": "execute_result"
    }
   ],
   "source": [
    "#i want to have a function that derives an expression f_x with respect to x, n times. then print out the computational graph\n",
    "\n",
    "#takes in a function of x, x data type, and n number of times to derive f_x\n",
    "#this is my own wack function\n",
    "def deriv_loop(f_x, x, n):\n",
    "    dx = f_x\n",
    "    for i in range(n):\n",
    "        dx = T.grad(dx, x)\n",
    "    return dx\n",
    "\n",
    "#let's first test on x^10, derived 5 times. The answer should be 30240 * x^5\n",
    "x = T.dscalar('x')\n",
    "y = x ** 10\n",
    "g = deriv_loop(y, x, 5)\n",
    "\n",
    "print(pp(g))\n",
    "print(\"wow that looks terrible, but it is before optimization\")\n",
    "print()\n",
    "\n",
    "h = theano.function([x], g)\n",
    "print(h(2))\n",
    "print(\"yay that is right. 30240 * 2^5 = 967680 indeed\")\n",
    "print()\n",
    "\n",
    "print(\"Below is the optimized form. It looks off. IDK what the whole left half is doing. The 30240 is correct though, so it is still somehow right\")\n",
    "pp(h.maker.fgraph.outputs[0])\n"
   ]
  },
  {
   "cell_type": "code",
   "execution_count": 21,
   "metadata": {},
   "outputs": [
    {
     "ename": "RuntimeError",
     "evalue": "('Failed to import pydot. You must install graphviz and either pydot or pydot-ng for `pydotprint` to work.', 'Install the python package pydot or pydot-ng. Install graphviz.')",
     "output_type": "error",
     "traceback": [
      "\u001b[0;31m---------------------------------------------------------------------------\u001b[0m",
      "\u001b[0;31mRuntimeError\u001b[0m                              Traceback (most recent call last)",
      "\u001b[0;32m<ipython-input-21-736e103d5a40>\u001b[0m in \u001b[0;36m<module>\u001b[0;34m\u001b[0m\n\u001b[1;32m      1\u001b[0m \u001b[0;31m#let's see what the computation graph looks like!\u001b[0m\u001b[0;34m\u001b[0m\u001b[0;34m\u001b[0m\u001b[0;34m\u001b[0m\u001b[0m\n\u001b[0;32m----> 2\u001b[0;31m \u001b[0mtheano\u001b[0m\u001b[0;34m.\u001b[0m\u001b[0mprinting\u001b[0m\u001b[0;34m.\u001b[0m\u001b[0mpydotprint\u001b[0m\u001b[0;34m(\u001b[0m\u001b[0mh\u001b[0m\u001b[0;34m,\u001b[0m \u001b[0moutfile\u001b[0m\u001b[0;34m=\u001b[0m\u001b[0;34m\"looped_derivatives.png\"\u001b[0m\u001b[0;34m,\u001b[0m \u001b[0mvar_with_name_simple\u001b[0m\u001b[0;34m=\u001b[0m\u001b[0;32mTrue\u001b[0m\u001b[0;34m)\u001b[0m\u001b[0;34m\u001b[0m\u001b[0;34m\u001b[0m\u001b[0m\n\u001b[0m",
      "\u001b[0;32m~/.pyenv/versions/anaconda3-2019.03/lib/python3.7/site-packages/theano/printing.py\u001b[0m in \u001b[0;36mpydotprint\u001b[0;34m(fct, outfile, compact, format, with_ids, high_contrast, cond_highlight, colorCodes, max_label_size, scan_graphs, var_with_name_simple, print_output_file, return_image)\u001b[0m\n\u001b[1;32m    781\u001b[0m                            \u001b[0;34m\" and either pydot or pydot-ng for \"\u001b[0m\u001b[0;34m\u001b[0m\u001b[0;34m\u001b[0m\u001b[0m\n\u001b[1;32m    782\u001b[0m                            \u001b[0;34m\"`pydotprint` to work.\"\u001b[0m\u001b[0;34m,\u001b[0m\u001b[0;34m\u001b[0m\u001b[0;34m\u001b[0m\u001b[0m\n\u001b[0;32m--> 783\u001b[0;31m                            pydot_imported_msg)\n\u001b[0m\u001b[1;32m    784\u001b[0m \u001b[0;34m\u001b[0m\u001b[0m\n\u001b[1;32m    785\u001b[0m     \u001b[0mg\u001b[0m \u001b[0;34m=\u001b[0m \u001b[0mpd\u001b[0m\u001b[0;34m.\u001b[0m\u001b[0mDot\u001b[0m\u001b[0;34m(\u001b[0m\u001b[0;34m)\u001b[0m\u001b[0;34m\u001b[0m\u001b[0;34m\u001b[0m\u001b[0m\n",
      "\u001b[0;31mRuntimeError\u001b[0m: ('Failed to import pydot. You must install graphviz and either pydot or pydot-ng for `pydotprint` to work.', 'Install the python package pydot or pydot-ng. Install graphviz.')"
     ]
    }
   ],
   "source": [
    "#let's see what the computation graph looks like! \n",
    "theano.printing.pydotprint(h, outfile=\"looped_derivatives.png\", var_with_name_simple=True)"
   ]
  },
  {
   "cell_type": "markdown",
   "metadata": {},
   "source": [
    "After checking out that output file... \n",
    "Well that was not what I was looking for. I was hoping for some complex looking loopy graph, but instead it treated 5 derivatives as one operation. It also returned something weird for the final reduced form of the 5th derivative of x^10. However, the test of h(2) returned the correct answer, so it must be doing something right. (I tested several other values and they all seem correct.)\n",
    "\n",
    "Let's compare this to sympy: "
   ]
  },
  {
   "cell_type": "code",
   "execution_count": 41,
   "metadata": {},
   "outputs": [
    {
     "data": {
      "text/latex": [
       "$\\displaystyle x^{10}$"
      ],
      "text/plain": [
       "x**10"
      ]
     },
     "execution_count": 41,
     "metadata": {},
     "output_type": "execute_result"
    }
   ],
   "source": [
    "import sympy\n",
    "from sympy.abc import x\n",
    "k = x ** 10\n",
    "k"
   ]
  },
  {
   "cell_type": "code",
   "execution_count": 42,
   "metadata": {},
   "outputs": [
    {
     "data": {
      "text/latex": [
       "$\\displaystyle 30240 x^{5}$"
      ],
      "text/plain": [
       "30240*x**5"
      ]
     },
     "execution_count": 42,
     "metadata": {},
     "output_type": "execute_result"
    }
   ],
   "source": [
    "k = sympy.diff(k, x)\n",
    "k = sympy.diff(k, x)\n",
    "k = sympy.diff(k, x)\n",
    "k = sympy.diff(k, x)\n",
    "k = sympy.diff(k, x)\n",
    "k"
   ]
  },
  {
   "cell_type": "markdown",
   "metadata": {},
   "source": [
    "## Conclusion about this basic comparison\n",
    "\n",
    "Ok, granted, we did hardcode 5 derivatives for sympy, but still. It is a little embarrassing how easy sympy handled this compared to theano. \n",
    "\n",
    "The theano repeated derivative function was also kind of jenky, and that is probably also a major factor as to why the 5th derivative and computation graph looks like pasta. For the case of very simple polynomial symbolic differentiation, a sympy derivative gives a much clearer answer than a theano handicapped with questionable code. \n",
    "\n",
    "To explore this further, we will compare calculation times, and test more complex functions that aren't just easy polynomials. Perhaps theano will shine there. "
   ]
  },
  {
   "cell_type": "markdown",
   "metadata": {},
   "source": [
    "## Theano and Sympy timing comparasons"
   ]
  },
  {
   "cell_type": "markdown",
   "metadata": {},
   "source": [
    "In this section, we were trying to find the differences and similarities of running differentaiting functions using both Theano and Sympy. In this section, we will only be looking at polynomials since they are arguably the most important form, and it is possible to appoximate all other functions as polynomials with a reasonable accuracy."
   ]
  },
  {
   "cell_type": "code",
   "execution_count": 116,
   "metadata": {},
   "outputs": [],
   "source": [
    "import timeit\n",
    "import time\n",
    "import random\n",
    "import numpy as np\n",
    "import matplotlib.pyplot as plt"
   ]
  },
  {
   "cell_type": "code",
   "execution_count": 117,
   "metadata": {},
   "outputs": [
    {
     "name": "stdout",
     "output_type": "stream",
     "text": [
      "0.16719698905944824\n"
     ]
    }
   ],
   "source": [
    "var = T.dscalar('x')\n",
    "poly_10_th = var**10 + var**9 + var**8 + 1000*var**6\n",
    "start = time.time()\n",
    "deriv_loop(poly_10_th, var, 5)\n",
    "end = time.time()\n",
    "\n",
    "print(end - start) # in seconds"
   ]
  },
  {
   "cell_type": "code",
   "execution_count": 118,
   "metadata": {},
   "outputs": [
    {
     "name": "stdout",
     "output_type": "stream",
     "text": [
      "0.047039031982421875\n"
     ]
    }
   ],
   "source": [
    "poly_10 = x**10 + x**9 + x**8 + 1000*x**6\n",
    "\n",
    "start = time.time()\n",
    "poly_10 = sympy.diff(poly_10, x)\n",
    "poly_10 = sympy.diff(poly_10, x)\n",
    "poly_10 = sympy.diff(poly_10, x)\n",
    "poly_10 = sympy.diff(poly_10, x)\n",
    "poly_10 = sympy.diff(poly_10, x)\n",
    "end = time.time()\n",
    "\n",
    "print(end - start)"
   ]
  },
  {
   "cell_type": "markdown",
   "metadata": {},
   "source": [
    "Looking at the results from above, we notice that Theano is performing worse than Sympy when it comes to differentiating polynomials. However, after a little or research, we realized that Theano is most efficient when handling large amount of data especially when paired with a GPU calculations. These runs that we performed here are made using CPUs, so it may not be as efficient. Next, we will try to see how does these two methods scale when we use longer polynomials. The following functions are configurable helper functions that we will be using later to compare the polynomial differentiation for both functions."
   ]
  },
  {
   "cell_type": "code",
   "execution_count": 92,
   "metadata": {},
   "outputs": [
    {
     "data": {
      "text/plain": [
       "0.34289470911026"
      ]
     },
     "execution_count": 92,
     "metadata": {},
     "output_type": "execute_result"
    }
   ],
   "source": [
    "def theano_polydiff_timer(epochs : int, poly_len : int, diff_num : int, exp_max: int, const_max: float):\n",
    "    \"\"\"\n",
    "    theano_polydiff_timer: runs the Theano function multiple times and returns the average timing per run in seconds\n",
    "    epochs (int): number of times to run the Theano differentiation\n",
    "    poly_len (int): the length of the polynomial\n",
    "    diff_num (int): the number of derivatives taken\n",
    "    exp_max (int): maximum exponent possible\n",
    "    const_max (float): maximum constant possible for each term\n",
    "    \"\"\"\n",
    "    timings = []\n",
    "    for j in range(epochs): # runs the timing for multiple epochs\n",
    "        poly_rand_th = 0\n",
    "        random.seed(time.time()) # initialize the RNG seed\n",
    "        for i in range(poly_len):\n",
    "            exp = random.randint(0, exp_max)\n",
    "            const = random.random()\n",
    "            const = const * const_max # re-scale const to be within range (0, const_max)\n",
    "\n",
    "            poly_rand_th += const*var**exp\n",
    "\n",
    "        start = time.time()\n",
    "        deriv_loop(poly_rand_th, var, diff_num)\n",
    "        end = time.time()\n",
    "        \n",
    "        timings.append(end - start)\n",
    "\n",
    "    return np.mean(timings) # in seconds\n",
    "\n",
    "theano_polydiff_timer(20, 50, 1, 700, 1000)"
   ]
  },
  {
   "cell_type": "code",
   "execution_count": 93,
   "metadata": {},
   "outputs": [
    {
     "data": {
      "text/plain": [
       "0.4616847634315491"
      ]
     },
     "execution_count": 93,
     "metadata": {},
     "output_type": "execute_result"
    }
   ],
   "source": [
    "def sympy_polydiff_timer(epochs : int, poly_len : int, diff_num : int, exp_max: int, const_max: float):\n",
    "    \"\"\"\n",
    "    sympy_polydiff_timer: runs the Sympy function multiple times and returns the average timing per run in seconds\n",
    "    epochs (int): number of times to run the Sympy differentiation\n",
    "    poly_len (int): the length of the polynomial\n",
    "    diff_num (int): the number of derivatives taken\n",
    "    exp_max (int): maximum exponent possible\n",
    "    const_max (float): maximum constant possible for each term\n",
    "    \"\"\"\n",
    "    timings = []\n",
    "    for j in range(epochs): # runs the timing for multiple epochs\n",
    "        poly_rand_sy = 0\n",
    "        random.seed(time.time()) # initialize the RNG seed\n",
    "        for i in range(poly_len):\n",
    "            exp = random.randint(0, exp_max)\n",
    "            const = random.random()\n",
    "            const = const * const_max # re-scale const to be within range (0, const_max)\n",
    "\n",
    "            poly_rand_sy += const*x**exp\n",
    "\n",
    "        start = time.time()\n",
    "        poly_rand_sy = sympy.diff(poly_rand_sy, x)\n",
    "        poly_rand_sy = sympy.diff(poly_rand_sy, x)\n",
    "        poly_rand_sy = sympy.diff(poly_rand_sy, x)\n",
    "        poly_rand_sy = sympy.diff(poly_rand_sy, x)\n",
    "        poly_rand_sy = sympy.diff(poly_rand_sy, x)\n",
    "        end = time.time()\n",
    "        \n",
    "        timings.append(end - start)\n",
    "\n",
    "    return np.mean(timings) # in seconds\n",
    "\n",
    "sympy_polydiff_timer(20, 50, 1, 700, 1000)"
   ]
  },
  {
   "cell_type": "markdown",
   "metadata": {},
   "source": [
    "The following examples will be comparing how the two functions (Theano and Sympy) scale with respect to the length of the polynomials on a regular CPU. **The following cell may take a while to run**."
   ]
  },
  {
   "cell_type": "code",
   "execution_count": 128,
   "metadata": {},
   "outputs": [],
   "source": [
    "plot_range = range(10, 100, 5)\n",
    "theano_timings1 = []\n",
    "sympy_timings1 = []\n",
    "\n",
    "for i in plot_range:\n",
    "    theano_timings1.append(theano_polydiff_timer(5, i, 1, 20, 1000))\n",
    "    sympy_timings1.append(sympy_polydiff_timer(5, i, 1, 20, 1000))"
   ]
  },
  {
   "cell_type": "code",
   "execution_count": 129,
   "metadata": {},
   "outputs": [
    {
     "data": {
      "image/png": "[encoded data removed]",
      "text/plain": [
       "<Figure size 432x288 with 1 Axes>"
      ]
     },
     "metadata": {
      "needs_background": "light"
     },
     "output_type": "display_data"
    }
   ],
   "source": [
    "th_plot = plt.plot(plot_range, theano_timings1, label=\"Theano\")\n",
    "sy_plot = plt.plot(plot_range, sympy_timings1, label=\"Sympy\")\n",
    "plt.legend()\n",
    "plt.xlabel(\"Length of polynomial\")\n",
    "plt.ylabel(\"Execution time (sec)\")\n",
    "plt.show()"
   ]
  },
  {
   "cell_type": "markdown",
   "metadata": {},
   "source": [
    "In the previous test, we varied the length of the polynomial from 10 to 100 with steps of 5. We kept the maximum exponent value to be 20 regardless of the polynomial length. This means that some of the terms will have the same exponent, which means that the complexity of the polynomials will reach a maximum near 20 terms. While Sympy method showcases this asymptotic behaviors of the polynomials, Theano differentiation scales linearly with time. This is in a way ironic since Theano boasts about its ability to simplifying complex mathematical expressions, yet adding same-exponent terms before differentiating seems to slip from its mind. Additionally, there a noticable variance in Theano's timings that does not show in Sympy. In the following test, we would like to investigate what would happen if the maximum exponent scaled up with the length of the polynomial, which reduces the number of terms with the same degree."
   ]
  },
  {
   "cell_type": "code",
   "execution_count": 130,
   "metadata": {},
   "outputs": [],
   "source": [
    "plot_range = range(10, 100, 5)\n",
    "theano_timings2 = []\n",
    "sympy_timings2 = []\n",
    "\n",
    "for i in plot_range:\n",
    "    theano_timings2.append(theano_polydiff_timer(5, i, 1, 2*i, 1000))\n",
    "    sympy_timings2.append(sympy_polydiff_timer(5, i, 1, 2*i, 1000))"
   ]
  },
  {
   "cell_type": "code",
   "execution_count": 131,
   "metadata": {},
   "outputs": [
    {
     "data": {
      "image/png": "[encoded data removed]",
      "text/plain": [
       "<Figure size 432x288 with 1 Axes>"
      ]
     },
     "metadata": {
      "needs_background": "light"
     },
     "output_type": "display_data"
    }
   ],
   "source": [
    "th_plot = plt.plot(plot_range, theano_timings2, label=\"Theano\")\n",
    "sy_plot = plt.plot(plot_range, sympy_timings2, label=\"Sympy\")\n",
    "plt.legend()\n",
    "plt.xlabel(\"Length of polynomial\")\n",
    "plt.ylabel(\"Execution time (sec)\")\n",
    "plt.show()"
   ]
  },
  {
   "cell_type": "markdown",
   "metadata": {},
   "source": [
    "Now that the maximum exponent scales up with the length of the polynomial, we notice both Theano and Sympy times grow linearly with the length of the polynomial and they are comparable now. Then, we tried to compare the Theano with fixed max and with increasing max from the previous two tests to see if the maximum affects the trend considerably."
   ]
  },
  {
   "cell_type": "code",
   "execution_count": 132,
   "metadata": {},
   "outputs": [
    {
     "data": {
      "image/png": "[encoded data removed]",
      "text/plain": [
       "<Figure size 432x288 with 1 Axes>"
      ]
     },
     "metadata": {
      "needs_background": "light"
     },
     "output_type": "display_data"
    }
   ],
   "source": [
    "th_plot1 = plt.plot(plot_range, theano_timings1, label=\"Theano (fixed max)\")\n",
    "th_plot2 = plt.plot(plot_range, theano_timings2, label=\"Theano (increasing max)\")\n",
    "plt.legend()\n",
    "plt.xlabel(\"Length of polynomial\")\n",
    "plt.ylabel(\"Execution time (sec)\")\n",
    "plt.show()"
   ]
  },
  {
   "cell_type": "markdown",
   "metadata": {},
   "source": [
    "As shown above, Theano's performance doesn't seem to be affected regardless on whether the maximum exponent is increasing as a function of the length of the polynomial or not. This could be another clue that Theano handles each term on its own regardless of its exponent. This test encourages us to compare the performance of Theano versus Sympy based on the maximum polynomial degree and fixing the length of the polynomial. **The following cell may take awhile to run**."
   ]
  },
  {
   "cell_type": "code",
   "execution_count": 151,
   "metadata": {},
   "outputs": [],
   "source": [
    "plot_range = range(10, 700, 5)\n",
    "theano_timings3 = []\n",
    "sympy_timings3 = []\n",
    "\n",
    "for i in plot_range:\n",
    "    theano_timings3.append(theano_polydiff_timer(5, 5, 1, i, 1000))\n",
    "    sympy_timings3.append(sympy_polydiff_timer(5, 5, 1, i, 1000))"
   ]
  },
  {
   "cell_type": "code",
   "execution_count": 152,
   "metadata": {},
   "outputs": [
    {
     "data": {
      "image/png": "[encoded data removed]",
      "text/plain": [
       "<Figure size 432x288 with 1 Axes>"
      ]
     },
     "metadata": {
      "needs_background": "light"
     },
     "output_type": "display_data"
    }
   ],
   "source": [
    "th_plot = plt.plot(plot_range, theano_timings3, label=\"Theano\")\n",
    "sy_plot = plt.plot(plot_range, sympy_timings3, label=\"Sympy\")\n",
    "plt.legend()\n",
    "plt.xlabel(\"Length of polynomial\")\n",
    "plt.ylabel(\"Execution time (sec)\")\n",
    "plt.show()"
   ]
  },
  {
   "cell_type": "markdown",
   "metadata": {},
   "source": [
    "Here we notice that by fixing the length of polynomials and increasing the maximum exponent, Theano remains constant regardless of the exponent value while Sympy increases monotonically and asymptotes as the exponent size increases. We also notice that Theano performs better than Sympy for large exponents. However, Theano shows a weird pattern of spiking periodically, which we cannot explain. This could be due to how Theano stores data if it uses dynamic allocation to solve for additional polynomials."
   ]
  },
  {
   "cell_type": "code",
   "execution_count": 153,
   "metadata": {},
   "outputs": [
    {
     "name": "stdout",
     "output_type": "stream",
     "text": [
      "55\n",
      "125\n",
      "190\n",
      "255\n",
      "325\n",
      "390\n",
      "520\n",
      "585\n",
      "650\n"
     ]
    }
   ],
   "source": [
    "for i in range(len(theano_timings3)):\n",
    "    if theano_timings3[i] > 0.05:\n",
    "        print(plot_range[i])"
   ]
  },
  {
   "cell_type": "markdown",
   "metadata": {},
   "source": [
    "Running this test, we notice that the spikes happen almost consistently with a period of 65."
   ]
  },
  {
   "cell_type": "markdown",
   "metadata": {},
   "source": [
    "## Trying to Break Theano with different functions \n",
    "\n",
    "I was trying to come up with functions that may be costly or take a considerable amount of time to compute in Theanos. However, many deriatives get complicated quickly and I had another idea to try and \"break\" the program- how about trying to differentiate a function that doesn't actually have a derivative?\n"
   ]
  },
  {
   "cell_type": "markdown",
   "metadata": {},
   "source": [
    "\n",
    "## What happens when you try to differentiate a function in Theano that doesn't have a derivative?\n",
    "\n",
    "I was interested in this concept and came across a function called the Weierstrass function that is continuous everywhere but differentiable nowhere. (neat!) \n",
    "\n",
    "\n",
    "\n",
    "\n",
    "![](https://sites.math.washington.edu/~conroy/general/weierstrass/weier01.gif)\n",
    "\n",
    "The Weierstrass function is defined as \n",
    "\n",
    "(need to add function here)\n",
    "\n"
   ]
  },
  {
   "cell_type": "code",
   "execution_count": null,
   "metadata": {},
   "outputs": [],
   "source": [
    "# trying to run the Weierstrass function in Theano\n",
    "\n",
    "import numpy as nump\n",
    "import theano\n",
    "import theano.tensor as T\n",
    "from theano import pp\n",
    "\n",
    "# Weierstrass function \n",
    "\n",
    "\n",
    "#here is a basic example of taking derivative of x^2\n",
    "x = T.dscalar('x')\n",
    "# y = x ** 2\n",
    "\n",
    "y = nump.cos(1**x*nump.pi*x) / 2**x\n",
    "\n",
    "gy = T.grad(y, x)\n",
    "print(pp(gy))  # print out the gradient prior to optimization\n",
    "\n",
    "# print(\"The derivative is right, once you look past the tensorconstant stuff:   2 * x ^ (2-1)\")\n",
    "\n",
    "\n",
    "f = theano.function([x], gy)\n",
    "\n",
    "#calculate value of x=4. 2*4 = 8, seems good\n",
    "print(f(4))\n",
    "\n",
    "# print(\"final result below in reduced form, it seems. 2x is indeed the derivative of x^2: \")\n",
    "pp(f.maker.fgraph.outputs[0])\n",
    "#theano.printing.pydotprint(f, outfile=\"looped_derivatives.png\", var_with_name_simple=True)"
   ]
  },
  {
   "cell_type": "code",
   "execution_count": null,
   "metadata": {},
   "outputs": [],
   "source": [
    "import numpy as nump\n",
    "import matplotlib.pyplot as plt\n",
    "\n",
    "M = 100000\n",
    "\n",
    "def wei(x, N):\n",
    "    y = nump.zeros((1,M))\n",
    "    for n in range(1,N):\n",
    "        y = y + nump.cos(1**n*nump.pi*x) / 2**n\n",
    "    return y\n",
    "\n",
    "\n",
    "x = nump.linspace(-2,2,M)\n",
    "y = nump.reshape(wei(x,500), (M,))\n",
    "\n",
    "plt.plot(x, y, 'r-')\n",
    "plt.show()\n",
    "\n",
    "# not quite working as I'd hoped "
   ]
  },
  {
   "cell_type": "markdown",
   "metadata": {},
   "source": [
    "### Questions you have about the method\n",
    "\n",
    "* How exactly does that computation graph work? \n",
    "* Also, what exactly is a tensor? Those seem to be the foundation of theano. \n",
    "\n",
    "## Tensors \n",
    "![](https://papers.bastolasushan.com/wp-content/uploads/2019/11/fig0201a.png)\n",
    "\n",
    "What are tensors?\n",
    "\n",
    "Tensors are a type of data structure similar to a vector or matrix, but with n-dimensions. You can perform operations on tensors like addition, subtraction, and multiplication, similar to matricies, but they are a bit more involved. \n",
    "\n",
    "Why does Theano use tensors?\n",
    "\n",
    "\n",
    "\n",
    "\n",
    "\n",
    "## About the software\n",
    "\n",
    "Theano was developed by Montreal Institute for Learning Algorithms (MILA), University of Montreal, up until late 2017\n",
    "\n",
    "Link to the repository: https://github.com/Theano/Theano \n",
    "\n",
    "Official tutorial: http://www.deeplearning.net/software/theano/index.html\n",
    "\n",
    "Here is their summary from their tutorial: \n",
    "\n",
    "Theano is a Python library that allows you to define, optimize, and evaluate mathematical expressions involving multi-dimensional arrays efficiently. Theano features:\n",
    "\n",
    "* tight integration with NumPy – Use numpy.ndarray in Theano-compiled functions.\n",
    "* transparent use of a GPU – Perform data-intensive computations much faster than on a CPU.\n",
    "* efficient symbolic differentiation – Theano does your derivatives for functions with one or many inputs.\n",
    "* speed and stability optimizations – Get the right answer for log(1+x) even when x is really tiny.\n",
    "* dynamic C code generation – Evaluate expressions faster.\n",
    "* extensive unit-testing and self-verification – Detect and diagnose many types of errors.\n",
    "* Theano has been powering large-scale computationally intensive scientific investigations since 2007. But it is also approachable enough to be used in the classroom (University of Montreal’s deep learning/machine learning classes).\n",
    "\n",
    "### Open questions\n",
    "\n",
    "* Any open questions you would like to discuss or get help answering?\n",
    "\n",
    "No. See the other questions above. "
   ]
  },
  {
   "cell_type": "code",
   "execution_count": null,
   "metadata": {},
   "outputs": [],
   "source": []
  },
  {
   "cell_type": "code",
   "execution_count": null,
   "metadata": {},
   "outputs": [],
   "source": []
  }
 ],
 "metadata": {
  "kernelspec": {
   "display_name": "Python 3",
   "language": "python",
   "name": "python3"
  },
  "language_info": {
   "codemirror_mode": {
    "name": "ipython",
    "version": 3
   },
   "file_extension": ".py",
   "mimetype": "text/x-python",
   "name": "python",
   "nbconvert_exporter": "python",
   "pygments_lexer": "ipython3",
   "version": "3.7.3"
  }
 },
 "nbformat": 4,
 "nbformat_minor": 4
}
