{
 "cells": [
  {
   "cell_type": "markdown",
   "metadata": {},
   "source": [
    "# **Ray Tracing** in **GL (or other) Shading Language**\n",
    "\n",
    "## Group members\n",
    "* Musaab Al-Bakry\n",
    "* MingMing Sun\n",
    "* Rebecca Jacobs\n",
    "* Andrew Pickner (?)\n",
    "\n",
    "\n",
    "![](https://raw.githubusercontent.com/larsbrinkhoff/glsl-sphere-tracing/gif/cube.gif)\n",
    "\n",
    "Below is a snippet of code from the Sphere Tracing Algorithm (a version of Ray Tracing):"
   ]
  },
  {
   "cell_type": "code",
   "execution_count": 4,
   "metadata": {},
   "outputs": [],
   "source": [
    "import numpy as np\n",
    "import matplotlib.pyplot as plt\n",
    "\n",
    "def intersect_sphere(O, D, S, R):\n",
    "    # Return the distance from O to the intersection of the ray (O, D) with the \n",
    "    # sphere (S, R), or +inf if there is no intersection.\n",
    "    # O and S are 3D points, D (direction) is a normalized vector, R is a scalar.\n",
    "    a = np.dot(D, D)\n",
    "    OS = O - S\n",
    "    b = 2 * np.dot(D, OS)\n",
    "    c = np.dot(OS, OS) - R * R\n",
    "    disc = b * b - 4 * a * c\n",
    "    if disc > 0:\n",
    "        distSqrt = np.sqrt(disc)\n",
    "        q = (-b - distSqrt) / 2.0 if b < 0 else (-b + distSqrt) / 2.0\n",
    "        t0 = q / a\n",
    "        t1 = c / q\n",
    "        t0, t1 = min(t0, t1), max(t0, t1)\n",
    "        if t1 >= 0:\n",
    "            return t1 if t0 < 0 else t0\n",
    "    return np.inf\n",
    "\n",
    "def add_sphere(position, radius, color):\n",
    "    return dict(type='sphere', position=np.array(position), \n",
    "        radius=np.array(radius), color=np.array(color), reflection=.5)\n",
    "    \n",
    "def add_plane(position, normal):\n",
    "    return dict(type='plane', position=np.array(position), \n",
    "        normal=np.array(normal),\n",
    "        color=lambda M: (color_plane0 \n",
    "            if (int(M[0] * 2) % 2) == (int(M[2] * 2) % 2) else color_plane1),\n",
    "        diffuse_c=.75, specular_c=.5, reflection=.25)\n",
    "    \n",
    "\n"
   ]
  },
  {
   "cell_type": "markdown",
   "metadata": {},
   "source": [
    "and include code snippets\n",
    "\n",
    "```c\n",
    "double square(double x) {\n",
    "    return x*x;\n",
    "}\n",
    "```\n",
    "or code cells"
   ]
  },
  {
   "cell_type": "code",
   "execution_count": 5,
   "metadata": {},
   "outputs": [
    {
     "name": "stdout",
     "output_type": "stream",
     "text": [
      "square(3) = 9\n"
     ]
    }
   ],
   "source": [
    "def square(x):\n",
    "    return x*x\n",
    "\n",
    "print(f'square(3) = {square(3)}')"
   ]
  },
  {
   "cell_type": "markdown",
   "metadata": {},
   "source": [
    "## About Sphere Tracing\n",
    "\n",
    "Sphere tracing uses functions that return the distance to their implicit surfaces, called distance surfaces **(1.2)**, to get a sequence of points that converge if and only if the ray intersects the implicit surface. The image is then created using unbounding spheres. An unbounding volume (sphere) surrounds the space that doesn't contain the object. Therefore, the name \"sphere tracing\" is used for this algorithm.\n",
    "\n",
    "  ![](https://i.stack.imgur.com/dFHFY.png)\n",
    "\n",
    "Sphere tracing doesn't require the ability to evaluate the derivative of the function, unlike other algorithms that use rootfinding techniques such as Newton's method. It only requires a bound on the magnitude of the derivative. However, the function itself must be Lipschitz **(1.3)** and continuous. This makes it superior to methods that use polygonization because it can detect disconnected sections of the surface.\n",
    "\n",
    "Alternative methods for implicit surface rendering do exist. However, some of the other methods use polygonization **(1.1)** which is problematic because it can be costly and inefficient for representation of a relatively simple surface. Polygonizations also have the potential to overlook disconnected or detailed sections of the surface. \n",
    "\n",
    "Although it can be less desirabe on simple objects made of quadrics and polygons, sphere tracing proves to be extremely useful and robust when rendering more complicated geometry.  It can also be used on a wider variety of surfaces.\n",
    "\n",
    "**1.1 Polygonization** - approximating an implicit surface using discrete sample points and structuring those points using methods such as triangulation to create a satisfactory model.\n",
    "\n",
    "**1.2 Distance Surfaces**- functions that measure or bound the geometric distance to their implicit surfaces \n",
    "\n",
    "**1.3 Lipschitz Function**\n",
    "\n",
    "A function $f$ : $\\mathbb{R}^3$ $\\Rightarrow$ $\\mathbb{R}$ is $Lipschitz$ over a domain $D$ if and only if for all $\\mathbf{x}$, $\\mathbf{y}$  $\\in$  $D$,\n",
    "there exists a positive finite constant $\\lambda$ such that\n",
    "\n",
    "|$f(x) - f(y)$|  $\\leq$  $\\lambda$ ||$\\mathbf{x}$ - $\\mathbf{y}$ ||.\n",
    "                            \n",
    "The $Lipschitz$ $constant$ denoted Lip $f$, is the minimum $\\lambda$ satisfying the above equation.\n",
    "\n"
   ]
  },
  {
   "cell_type": "markdown",
   "metadata": {},
   "source": [
    "## About GLSL (OpenGL Shading Language)\n",
    "\n",
    "GLSL has syntax based on C\n",
    "\n",
    "    for(int i=0;i<max_iter;i++)\n",
    "    {\n",
    "        vec4 mz = vec4(z.x,-z.y,-z.z,-z.w);\n",
    "        // derivative\n",
    "        dz[0]=vec4(dot(mz,dz[0]),z.x*dz[0].yzw+dz[0].x*z.yzw);\n",
    "        dz[1]=vec4(dot(mz,dz[1]),z.x*dz[1].yzw+dz[1].x*z.yzw);\n",
    "        dz[2]=vec4(dot(mz,dz[2]),z.x*dz[2].yzw+dz[2].x*z.yzw);\n",
    "        //dz[3]=vec4(dot(mz,dz[3]),z.x*dz[3].yzw+dz[3].x*z.yzw);\n",
    "\n",
    "        // z = z2 + c\n",
    "        nz.x=dot(z, mz);\n",
    "        nz.yzw=2.0*z.x*z.yzw;\n",
    "        z=nz+c;\n",
    "\n",
    "        if(dot(z,z)>4.0)\n",
    "            break;\n",
    "        }\n",
    "\n",
    "Repository link: \n",
    "https://github.com/larsbrinkhoff/glsl-sphere-tracing\n",
    "\n",
    "GLSL was created by the OpenGL Architecture Review Board for developers in order to have better control over 3-D rendering without having to use languages that are hardware specific. It is used mostly for developing video games in this context, but can be used for other purposes like computer aided design.\n",
    "\n",
    "GLSL has language bindings to C, C++, Java, and other languages and therefore has great adaptability."
   ]
  },
  {
   "cell_type": "markdown",
   "metadata": {},
   "source": [
    "## Sphere tracing as it appears in GLSL\n",
    "\n",
    "GLSL is the main language used to execute the sphere tracing algorithm. It can be used to test performance and run different variations of the algorithm and is helpful in conducting various research.\n",
    "\n",
    "Convergence for the sphere tracing algorithm is strictly linear and is mostly dependent on surface edges. Sometimes the distance to the surface is extremely small compared to the distance to the ray intersection, which slows convergence and causes the algorithm to be quite costly. "
   ]
  },
  {
   "cell_type": "markdown",
   "metadata": {},
   "source": [
    "## Sphere tracing in other Shading Languages \n",
    "\n",
    "\n",
    "\n",
    "\n",
    "\n"
   ]
  },
  {
   "cell_type": "markdown",
   "metadata": {},
   "source": [
    "## Methods "
   ]
  },
  {
   "cell_type": "markdown",
   "metadata": {},
   "source": [
    "\n",
    "## Results and interpretation\n",
    "\n",
    "## Conclusions and open questions"
   ]
  },
  {
   "cell_type": "code",
   "execution_count": null,
   "metadata": {},
   "outputs": [],
   "source": []
  }
 ],
 "metadata": {
  "kernelspec": {
   "display_name": "Python 3",
   "language": "python",
   "name": "python3"
  },
  "language_info": {
   "codemirror_mode": {
    "name": "ipython",
    "version": 3
   },
   "file_extension": ".py",
   "mimetype": "text/x-python",
   "name": "python",
   "nbconvert_exporter": "python",
   "pygments_lexer": "ipython3",
   "version": "3.7.3"
  }
 },
 "nbformat": 4,
 "nbformat_minor": 4
}
